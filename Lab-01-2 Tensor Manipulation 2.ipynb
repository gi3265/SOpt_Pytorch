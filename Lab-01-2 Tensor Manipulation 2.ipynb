{
 "cells": [
  {
   "cell_type": "markdown",
   "id": "south-dakota",
   "metadata": {},
   "source": [
    "학습목표\n",
    "\n",
    "지난 시간에 이어서 텐서 조작(Tensor Manipulation)에 대해 계속 알아본다.\\\n",
    "핵심키워드\n",
    "\n",
    "* 텐서(Tensor)\n",
    "* 넘파이(NumPy)\n",
    "* 텐서 조작(Tensor Manipulation)\n",
    "* View, Squeeze, Unsqueeze, Type Casting, Concatenate, Stacking, In-place Operation"
   ]
  },
  {
   "cell_type": "code",
   "execution_count": 3,
   "id": "bizarre-nightlife",
   "metadata": {},
   "outputs": [],
   "source": [
    "import numpy as np\n",
    "import torch"
   ]
  },
  {
   "cell_type": "markdown",
   "id": "functional-million",
   "metadata": {},
   "source": [
    "## View(Reshape)"
   ]
  },
  {
   "cell_type": "code",
   "execution_count": 6,
   "id": "consecutive-plain",
   "metadata": {},
   "outputs": [
    {
     "data": {
      "text/plain": [
       "torch.Size([2, 2, 3])"
      ]
     },
     "execution_count": 6,
     "metadata": {},
     "output_type": "execute_result"
    }
   ],
   "source": [
    "t = np.array([[[0, 1, 2],\n",
    "               [3, 4, 5]],\n",
    "              [[6, 7, 8],\n",
    "               [9, 10, 11]]])\n",
    "ft = torch.FloatTensor(t)\n",
    "ft.shape"
   ]
  },
  {
   "cell_type": "markdown",
   "id": "satisfied-brunswick",
   "metadata": {},
   "source": [
    "torch의 view는 numpy에서의 reshape와 같은 역할을 한다."
   ]
  },
  {
   "cell_type": "code",
   "execution_count": 7,
   "id": "frozen-entrance",
   "metadata": {},
   "outputs": [
    {
     "name": "stdout",
     "output_type": "stream",
     "text": [
      "tensor([[ 0.,  1.,  2.],\n",
      "        [ 3.,  4.,  5.],\n",
      "        [ 6.,  7.,  8.],\n",
      "        [ 9., 10., 11.]])\n",
      "torch.Size([4, 3])\n"
     ]
    }
   ],
   "source": [
    "print(ft.view(-1, 3))  # -1로 표시한 부분의 차원은 모르겠고, 나머지 값을 토대로 모양 바꿔주기\n",
    "print(ft.view(-1, 3).shape)"
   ]
  },
  {
   "cell_type": "code",
   "execution_count": 10,
   "id": "homeless-humanity",
   "metadata": {},
   "outputs": [
    {
     "name": "stdout",
     "output_type": "stream",
     "text": [
      "tensor([[[ 0.,  1.,  2.]],\n",
      "\n",
      "        [[ 3.,  4.,  5.]],\n",
      "\n",
      "        [[ 6.,  7.,  8.]],\n",
      "\n",
      "        [[ 9., 10., 11.]]])\n",
      "torch.Size([4, 1, 3])\n",
      "tensor([[[ 0.,  1.,  2.]],\n",
      "\n",
      "        [[ 3.,  4.,  5.]],\n",
      "\n",
      "        [[ 6.,  7.,  8.]],\n",
      "\n",
      "        [[ 9., 10., 11.]]])\n"
     ]
    }
   ],
   "source": [
    "print(ft.view(-1, 1, 3)) # -1은 가장 특정하기 힘든(변동이 심한) 차원 부분에다 적어 줌\n",
    "print(ft.view(-1, 1, 3).shape)\n",
    "print(ft.view(4, 1, 3))"
   ]
  },
  {
   "cell_type": "markdown",
   "id": "under-florida",
   "metadata": {},
   "source": [
    "## Squeeze\n",
    "1의 값을 가지는 dimension을 쥐어짜서 없애준다."
   ]
  },
  {
   "cell_type": "code",
   "execution_count": 16,
   "id": "quantitative-brand",
   "metadata": {},
   "outputs": [
    {
     "name": "stdout",
     "output_type": "stream",
     "text": [
      "tensor([[0.],\n",
      "        [1.],\n",
      "        [2.]])\n"
     ]
    },
    {
     "data": {
      "text/plain": [
       "torch.Size([3, 1])"
      ]
     },
     "execution_count": 16,
     "metadata": {},
     "output_type": "execute_result"
    }
   ],
   "source": [
    "tf = torch.FloatTensor([[0], [1], [2]])\n",
    "print(tf)\n",
    "tf.shape"
   ]
  },
  {
   "cell_type": "code",
   "execution_count": 15,
   "id": "hydraulic-russell",
   "metadata": {},
   "outputs": [
    {
     "name": "stdout",
     "output_type": "stream",
     "text": [
      "tensor([0., 1., 2.])\n",
      "torch.Size([3])\n"
     ]
    }
   ],
   "source": [
    "print(tf.squeeze())\n",
    "print(tf.squeeze().shape)"
   ]
  },
  {
   "cell_type": "code",
   "execution_count": 17,
   "id": "decreased-implementation",
   "metadata": {},
   "outputs": [
    {
     "data": {
      "text/plain": [
       "tensor([[0.],\n",
       "        [1.],\n",
       "        [2.]])"
      ]
     },
     "execution_count": 17,
     "metadata": {},
     "output_type": "execute_result"
    }
   ],
   "source": [
    "tf.squeeze(dim = 0)"
   ]
  },
  {
   "cell_type": "markdown",
   "id": "australian-canvas",
   "metadata": {},
   "source": [
    "dim = 0 값은 3이므로 squeeze로 인한 변화 없음"
   ]
  },
  {
   "cell_type": "code",
   "execution_count": 19,
   "id": "removable-thickness",
   "metadata": {},
   "outputs": [
    {
     "data": {
      "text/plain": [
       "tensor([0., 1., 2.])"
      ]
     },
     "execution_count": 19,
     "metadata": {},
     "output_type": "execute_result"
    }
   ],
   "source": [
    "tf.squeeze(dim = 1)"
   ]
  },
  {
   "cell_type": "markdown",
   "id": "compatible-monaco",
   "metadata": {},
   "source": [
    "dim = 1 의 값이 1이므로 squeeze로 인해 해당 dim 사라짐"
   ]
  },
  {
   "cell_type": "markdown",
   "id": "private-burden",
   "metadata": {},
   "source": [
    "## Unsqueeze\n",
    "Squeeze의 반대 기능: dim"
   ]
  },
  {
   "cell_type": "code",
   "execution_count": 21,
   "id": "cross-navigator",
   "metadata": {},
   "outputs": [
    {
     "name": "stdout",
     "output_type": "stream",
     "text": [
      "torch.Size([3])\n"
     ]
    }
   ],
   "source": [
    "ft = torch.Tensor([1,2,3])\n",
    "print(ft.shape)"
   ]
  },
  {
   "cell_type": "code",
   "execution_count": 36,
   "id": "oriental-toyota",
   "metadata": {},
   "outputs": [
    {
     "name": "stdout",
     "output_type": "stream",
     "text": [
      "tensor([[1., 2., 3.]])\n",
      "tensor([[1., 2., 3.]])\n",
      "torch.Size([1, 3])\n"
     ]
    }
   ],
   "source": [
    "print(ft.unsqueeze(dim= 0))\n",
    "#view로 바로 위의 코드 역할 똑같이 하도록 구현\n",
    "print(ft.view(1, -1)) # dim = 0에서의 element개수가 1만 되면 되는 것이므로\n",
    "print(ft.view(1, -1).shape)"
   ]
  },
  {
   "cell_type": "code",
   "execution_count": 23,
   "id": "thirty-selling",
   "metadata": {},
   "outputs": [
    {
     "name": "stdout",
     "output_type": "stream",
     "text": [
      "tensor([[1.],\n",
      "        [2.],\n",
      "        [3.]])\n"
     ]
    }
   ],
   "source": [
    "print(ft.unsqueeze(1)) # dim = 1의 자리가 1되도록. 그러면 1*3이었던 ft가 3*1이 되겠지"
   ]
  },
  {
   "cell_type": "code",
   "execution_count": 28,
   "id": "mechanical-charlotte",
   "metadata": {},
   "outputs": [
    {
     "name": "stdout",
     "output_type": "stream",
     "text": [
      "tensor([[1.],\n",
      "        [2.],\n",
      "        [3.]])\n",
      "torch.Size([3, 1])\n"
     ]
    }
   ],
   "source": [
    "print(ft.unsqueeze(dim = -1)) # 가장 뒤 차원보다 한 차원 더 뒤의 값이 1이 되도록\n",
    "print(ft.unsqueeze(-1).shape)"
   ]
  },
  {
   "cell_type": "markdown",
   "id": "rapid-halifax",
   "metadata": {},
   "source": [
    "## Type Casting\n",
    "Tensor의 type을 바꾸어 준다."
   ]
  },
  {
   "cell_type": "code",
   "execution_count": 29,
   "id": "regular-respect",
   "metadata": {},
   "outputs": [
    {
     "name": "stdout",
     "output_type": "stream",
     "text": [
      "tensor([1, 2, 3, 4])\n"
     ]
    }
   ],
   "source": [
    "lt = torch.LongTensor([1,2,3,4])\n",
    "print(lt)"
   ]
  },
  {
   "cell_type": "code",
   "execution_count": 33,
   "id": "quantitative-subdivision",
   "metadata": {},
   "outputs": [
    {
     "name": "stdout",
     "output_type": "stream",
     "text": [
      "tensor([1., 2., 3., 4.])\n",
      "torch.Size([4])\n"
     ]
    }
   ],
   "source": [
    "print(lt.float())\n",
    "print(lt.float().shape)"
   ]
  },
  {
   "cell_type": "markdown",
   "id": "international-witch",
   "metadata": {},
   "source": [
    "언제는 스칼라로 취급되고 언제 n*1의 벡터로 취급되는지 그 기준을 잘 모르겠다."
   ]
  },
  {
   "cell_type": "code",
   "execution_count": 37,
   "id": "horizontal-bacon",
   "metadata": {},
   "outputs": [
    {
     "data": {
      "text/plain": [
       "tensor([1, 0, 0, 1], dtype=torch.uint8)"
      ]
     },
     "execution_count": 37,
     "metadata": {},
     "output_type": "execute_result"
    }
   ],
   "source": [
    "bt = torch.ByteTensor([True, False, False, True])  # ByteTensor의 경우 불린 값을 저장\n",
    "bt"
   ]
  },
  {
   "cell_type": "code",
   "execution_count": 44,
   "id": "through-advertising",
   "metadata": {},
   "outputs": [
    {
     "name": "stdout",
     "output_type": "stream",
     "text": [
      "tensor([False, False,  True, False])\n"
     ]
    }
   ],
   "source": [
    "# ByteTensor의 예시\n",
    "bt = lt==3\n",
    "print(bt)"
   ]
  },
  {
   "cell_type": "code",
   "execution_count": 45,
   "id": "japanese-grenada",
   "metadata": {},
   "outputs": [
    {
     "name": "stdout",
     "output_type": "stream",
     "text": [
      "tensor([0, 0, 1, 0])\n",
      "tensor([0., 0., 1., 0.])\n"
     ]
    }
   ],
   "source": [
    "print(bt.long())\n",
    "print(bt.float())"
   ]
  },
  {
   "cell_type": "markdown",
   "id": "discrete-greek",
   "metadata": {},
   "source": [
    "## Concatenate"
   ]
  },
  {
   "cell_type": "code",
   "execution_count": 49,
   "id": "preliminary-monroe",
   "metadata": {},
   "outputs": [
    {
     "name": "stdout",
     "output_type": "stream",
     "text": [
      "tensor([[1., 2.],\n",
      "        [3., 4.],\n",
      "        [5., 6.],\n",
      "        [7., 8.]])\n",
      "tensor([[1., 2., 5., 6.],\n",
      "        [3., 4., 7., 8.]])\n"
     ]
    }
   ],
   "source": [
    "x = torch.FloatTensor([[1,2], [3,4]])\n",
    "y = torch.FloatTensor([[5,6], [7,8]])\n",
    "\n",
    "print(torch.cat([x,y], dim = 0)) # concatenate 하고자 하는 두 요소는 리스트로 묶어서 입력\n",
    "print(torch.cat([x,y], dim = 1))"
   ]
  },
  {
   "cell_type": "markdown",
   "id": "mediterranean-implementation",
   "metadata": {},
   "source": [
    "## Stacking\n",
    "Tensor의 shape가 같다면 Tensor을 그대로 앞으로 쌓거나 눕혀서 옆으로 쌓는다 "
   ]
  },
  {
   "cell_type": "code",
   "execution_count": 50,
   "id": "august-carbon",
   "metadata": {},
   "outputs": [],
   "source": [
    "x = torch.FloatTensor([1, 4])\n",
    "y = torch.FloatTensor([2, 5])\n",
    "z = torch.FloatTensor([3, 6])"
   ]
  },
  {
   "cell_type": "code",
   "execution_count": 53,
   "id": "perceived-centre",
   "metadata": {},
   "outputs": [
    {
     "data": {
      "text/plain": [
       "tensor([[1., 4.],\n",
       "        [2., 5.],\n",
       "        [3., 6.]])"
      ]
     },
     "execution_count": 53,
     "metadata": {},
     "output_type": "execute_result"
    }
   ],
   "source": [
    "torch.stack([x,y,z])"
   ]
  },
  {
   "cell_type": "code",
   "execution_count": 54,
   "id": "close-universe",
   "metadata": {},
   "outputs": [
    {
     "data": {
      "text/plain": [
       "tensor([[1., 2., 3.],\n",
       "        [4., 5., 6.]])"
      ]
     },
     "execution_count": 54,
     "metadata": {},
     "output_type": "execute_result"
    }
   ],
   "source": [
    "torch.stack([x,y,z], dim = 1)"
   ]
  },
  {
   "cell_type": "code",
   "execution_count": 55,
   "id": "outstanding-operations",
   "metadata": {},
   "outputs": [
    {
     "data": {
      "text/plain": [
       "tensor([[1., 4.],\n",
       "        [2., 5.],\n",
       "        [3., 6.]])"
      ]
     },
     "execution_count": 55,
     "metadata": {},
     "output_type": "execute_result"
    }
   ],
   "source": [
    "# stack매서드를 concatenate로 구현하기\n",
    "torch.cat([x.unsqueeze(dim = 0), y.unsqueeze(0), z.unsqueeze(0)], dim = 0)"
   ]
  },
  {
   "cell_type": "markdown",
   "id": "supported-promise",
   "metadata": {},
   "source": [
    "## Ones and Zeros"
   ]
  },
  {
   "cell_type": "code",
   "execution_count": 56,
   "id": "handy-fruit",
   "metadata": {},
   "outputs": [
    {
     "name": "stdout",
     "output_type": "stream",
     "text": [
      "tensor([[1., 1., 1.],\n",
      "        [1., 1., 1.]])\n",
      "tensor([[0., 0., 0.],\n",
      "        [0., 0., 0.]])\n"
     ]
    }
   ],
   "source": [
    "x = torch.FloatTensor([[1,2,3],\n",
    "                       [4,5,6]])\n",
    "print(torch.ones_like(x))  # x와 똑같은 shape의 1로 가득찬 tensor만들기\n",
    "print(torch.zeros_like(x))"
   ]
  },
  {
   "cell_type": "markdown",
   "id": "accepted-toronto",
   "metadata": {},
   "source": [
    "cpu tensor와 gpu tensor간에는 연산이 안된다.\\\n",
    "같은 device에 있어야 연산 가능.\\\n",
    "이렇듯 같은 device에 tensor들을 선언해 줄 때, ones_like(), zeros_like()매서드가 활용되게 된다."
   ]
  },
  {
   "cell_type": "markdown",
   "id": "welsh-cotton",
   "metadata": {},
   "source": [
    "## In-place Operation\n",
    "list의 immutability와 유사"
   ]
  },
  {
   "cell_type": "code",
   "execution_count": 58,
   "id": "naked-kidney",
   "metadata": {},
   "outputs": [
    {
     "name": "stdout",
     "output_type": "stream",
     "text": [
      "tensor([[2., 4.],\n",
      "        [6., 8.]])\n",
      "tensor([[1., 2.],\n",
      "        [3., 4.]])\n",
      "tensor([[2., 4.],\n",
      "        [6., 8.]])\n",
      "tensor([[2., 4.],\n",
      "        [6., 8.]])\n"
     ]
    }
   ],
   "source": [
    "x = torch.FloatTensor([[1,2], [3,4]])\n",
    "print(x.mul(2.))\n",
    "print(x)\n",
    "print(x.mul_(2.))  # 연산 결과를 가지고 연산 당하는 원래 객체의 값을 대체\n",
    "print(x)"
   ]
  }
 ],
 "metadata": {
  "kernelspec": {
   "display_name": "Python 3",
   "language": "python",
   "name": "python3"
  },
  "language_info": {
   "codemirror_mode": {
    "name": "ipython",
    "version": 3
   },
   "file_extension": ".py",
   "mimetype": "text/x-python",
   "name": "python",
   "nbconvert_exporter": "python",
   "pygments_lexer": "ipython3",
   "version": "3.7.10"
  }
 },
 "nbformat": 4,
 "nbformat_minor": 5
}
