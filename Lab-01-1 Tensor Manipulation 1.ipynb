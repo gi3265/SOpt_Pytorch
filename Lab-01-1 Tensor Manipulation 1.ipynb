{
 "cells": [
  {
   "cell_type": "markdown",
   "id": "animal-qualification",
   "metadata": {},
   "source": [
    "https://www.boostcourse.org/ai214/lecture/42282/?isDesc=false"
   ]
  },
  {
   "cell_type": "markdown",
   "id": "fleet-divorce",
   "metadata": {},
   "source": [
    "학습목표\n",
    "\n",
    "텐서 조작(Tensor Manipulation)에 대해 알아본다.\n",
    "핵심키워드\n",
    "\n",
    "* 텐서(Tensor)\n",
    "* 넘파이(NumPy)\n",
    "* 텐서 조작(Tensor Manipulation)\n",
    "* 브로드캐스팅(Broadcasting)"
   ]
  },
  {
   "cell_type": "code",
   "execution_count": 6,
   "id": "exempt-grant",
   "metadata": {},
   "outputs": [],
   "source": [
    "import numpy as np\n",
    "import torch"
   ]
  },
  {
   "cell_type": "markdown",
   "id": "immune-ultimate",
   "metadata": {},
   "source": [
    "# Numpy Review"
   ]
  },
  {
   "cell_type": "markdown",
   "id": "disabled-gamma",
   "metadata": {},
   "source": [
    "1D Array w/ Numpy"
   ]
  },
  {
   "cell_type": "code",
   "execution_count": 7,
   "id": "extraordinary-particle",
   "metadata": {},
   "outputs": [
    {
     "name": "stdout",
     "output_type": "stream",
     "text": [
      "[0. 1. 2. 3. 4. 5. 6.]\n"
     ]
    }
   ],
   "source": [
    "t = np.array([0., 1., 2., 3., 4., 5., 6.])\n",
    "print(t)"
   ]
  },
  {
   "cell_type": "code",
   "execution_count": 8,
   "id": "wireless-asthma",
   "metadata": {},
   "outputs": [
    {
     "name": "stdout",
     "output_type": "stream",
     "text": [
      "Rank of t:  1\n",
      "Shape of t:  (7,)\n"
     ]
    }
   ],
   "source": [
    "print('Rank of t: ', t.ndim)\n",
    "print('Shape of t: ', t.shape)"
   ]
  },
  {
   "cell_type": "code",
   "execution_count": 9,
   "id": "systematic-monitor",
   "metadata": {},
   "outputs": [
    {
     "name": "stdout",
     "output_type": "stream",
     "text": [
      "t[0] t[1] t[-1] =  0.0 1.0 6.0\n",
      "t[2:5] t[4:-1]j =  [2. 3. 4.] [4. 5.]\n",
      "t[:2] t[3:]     =  [0. 1.] [3. 4. 5. 6.]\n"
     ]
    }
   ],
   "source": [
    "print('t[0] t[1] t[-1] = ', t[0], t[1], t[-1]) # Elements\n",
    "print('t[2:5] t[4:-1]j = ', t[2:5], t[4:-1]) # Slicings\n",
    "print('t[:2] t[3:]     = ', t[:2], t[3:]) # Slicings"
   ]
  },
  {
   "cell_type": "markdown",
   "id": "previous-approval",
   "metadata": {},
   "source": [
    "2D Array w/ Numpy"
   ]
  },
  {
   "cell_type": "code",
   "execution_count": 11,
   "id": "acute-blogger",
   "metadata": {},
   "outputs": [
    {
     "name": "stdout",
     "output_type": "stream",
     "text": [
      "[[ 1.  2.  3.]\n",
      " [ 4.  5.  6.]\n",
      " [ 7.  8.  9.]\n",
      " [10. 11. 12.]]\n"
     ]
    }
   ],
   "source": [
    "t = np.array([[1., 2., 3.], [4., 5., 6.], [7., 8., 9.], [10., 11., 12.]])\n",
    "print(t)"
   ]
  },
  {
   "cell_type": "code",
   "execution_count": 12,
   "id": "alert-landing",
   "metadata": {},
   "outputs": [
    {
     "name": "stdout",
     "output_type": "stream",
     "text": [
      "Rank of t:  2\n",
      "Shape of t:  (4, 3)\n"
     ]
    }
   ],
   "source": [
    "print('Rank of t: ', t.ndim)\n",
    "print('Shape of t: ', t.shape)"
   ]
  },
  {
   "cell_type": "code",
   "execution_count": 26,
   "id": "caring-stable",
   "metadata": {},
   "outputs": [
    {
     "name": "stdout",
     "output_type": "stream",
     "text": [
      "tensor([ 2.,  5.,  8., 11.])\n"
     ]
    }
   ],
   "source": [
    "print(t[:,1])  # Numpy, Tensor에서는 Slicing할 때 행, 열 인덱스를 한 리스트 안에 담는다!"
   ]
  },
  {
   "cell_type": "markdown",
   "id": "synthetic-deadline",
   "metadata": {},
   "source": [
    "# Pytorch Tensor"
   ]
  },
  {
   "cell_type": "markdown",
   "id": "underlying-sydney",
   "metadata": {},
   "source": [
    "1D Array w/ Pytorch"
   ]
  },
  {
   "cell_type": "code",
   "execution_count": 13,
   "id": "searching-bobby",
   "metadata": {},
   "outputs": [
    {
     "name": "stdout",
     "output_type": "stream",
     "text": [
      "tensor([0., 1., 2., 3., 4., 5., 6.])\n"
     ]
    }
   ],
   "source": [
    "t = torch.FloatTensor([0., 1., 2., 3., 4., 5., 6.])\n",
    "print(t)"
   ]
  },
  {
   "cell_type": "code",
   "execution_count": 15,
   "id": "healthy-plasma",
   "metadata": {},
   "outputs": [
    {
     "name": "stdout",
     "output_type": "stream",
     "text": [
      "1\n",
      "torch.Size([7])\n",
      "torch.Size([7])\n",
      "tensor(0.) tensor(1.) tensor(6.)\n",
      "tensor([2., 3., 4.]) tensor([4., 5.])\n",
      "tensor([0., 1.]) tensor([3., 4., 5., 6.])\n"
     ]
    }
   ],
   "source": [
    "print(t.dim())  # rank\n",
    "print(t.shape)  # shape\n",
    "print(t.size()) # shape\n",
    "print(t[0], t[1], t[-1])  # Element\n",
    "print(t[2:5], t[4:-1])  # Slicing\n",
    "print(t[:2], t[3:])  # Slicing"
   ]
  },
  {
   "cell_type": "markdown",
   "id": "conscious-village",
   "metadata": {},
   "source": [
    "2D Array w/ Pytorch"
   ]
  },
  {
   "cell_type": "code",
   "execution_count": 19,
   "id": "sixth-relations",
   "metadata": {},
   "outputs": [
    {
     "name": "stdout",
     "output_type": "stream",
     "text": [
      "tensor([[ 1.,  2.,  3.],\n",
      "        [ 4.,  5.,  6.],\n",
      "        [ 7.,  8.,  9.],\n",
      "        [10., 11., 12.]])\n"
     ]
    }
   ],
   "source": [
    "t = torch.FloatTensor([[1., 2., 3.], [4., 5., 6.], [7., 8., 9.], [10., 11., 12.]])\n",
    "print(t)"
   ]
  },
  {
   "cell_type": "code",
   "execution_count": 27,
   "id": "fourth-throw",
   "metadata": {},
   "outputs": [
    {
     "name": "stdout",
     "output_type": "stream",
     "text": [
      "2\n",
      "torch.Size([4, 3])\n",
      "torch.Size([4, 3])\n",
      "tensor([ 2.,  5.,  8., 11.])\n",
      "torch.Size([4])\n",
      "tensor([[ 1.,  2.],\n",
      "        [ 4.,  5.],\n",
      "        [ 7.,  8.],\n",
      "        [10., 11.]])\n"
     ]
    }
   ],
   "source": [
    "print(t.dim())\n",
    "print(t.size())\n",
    "print(t.shape)\n",
    "print(t[:, 1])\n",
    "print(t[:, 1].size())\n",
    "print(t[:, :-1])"
   ]
  },
  {
   "cell_type": "markdown",
   "id": "opponent-lingerie",
   "metadata": {},
   "source": [
    "---"
   ]
  },
  {
   "cell_type": "markdown",
   "id": "powered-animation",
   "metadata": {},
   "source": [
    "Pytorch에서 지원하는 연산 방법들"
   ]
  },
  {
   "cell_type": "markdown",
   "id": "artificial-concentration",
   "metadata": {},
   "source": [
    "# Broadcasting"
   ]
  },
  {
   "cell_type": "code",
   "execution_count": 29,
   "id": "stuck-import",
   "metadata": {},
   "outputs": [
    {
     "data": {
      "text/plain": [
       "tensor([[6., 5.]])"
      ]
     },
     "execution_count": 29,
     "metadata": {},
     "output_type": "execute_result"
    }
   ],
   "source": [
    "# Same shape\n",
    "m1 = torch.FloatTensor([[3, 3]])\n",
    "m2 = torch.FloatTensor([[3, 2]])\n",
    "m1 + m2"
   ]
  },
  {
   "cell_type": "code",
   "execution_count": 30,
   "id": "yellow-sitting",
   "metadata": {},
   "outputs": [
    {
     "data": {
      "text/plain": [
       "tensor([[4., 5.]])"
      ]
     },
     "execution_count": 30,
     "metadata": {},
     "output_type": "execute_result"
    }
   ],
   "source": [
    "# Vector + Scaler\n",
    "m1 = torch.FloatTensor([[1, 2]])\n",
    "m2 = torch.FloatTensor([[3]])  # 3 -> [[3, 3]]\n",
    "m1 + m2"
   ]
  },
  {
   "cell_type": "code",
   "execution_count": 31,
   "id": "unknown-trademark",
   "metadata": {},
   "outputs": [
    {
     "data": {
      "text/plain": [
       "tensor([[4., 5.],\n",
       "        [5., 6.]])"
      ]
     },
     "execution_count": 31,
     "metadata": {},
     "output_type": "execute_result"
    }
   ],
   "source": [
    "# 2*1 Vector + 1*2 Vector\n",
    "m1 = torch.FloatTensor([[1],[2]])\n",
    "m2 = torch.FloatTensor([[3, 4]])\n",
    "m1 + m2"
   ]
  },
  {
   "cell_type": "markdown",
   "id": "personalized-twins",
   "metadata": {},
   "source": [
    "Matrix multiplication vs Multiplication"
   ]
  },
  {
   "cell_type": "code",
   "execution_count": 34,
   "id": "necessary-logistics",
   "metadata": {},
   "outputs": [
    {
     "name": "stdout",
     "output_type": "stream",
     "text": [
      "\n",
      "-----------\n",
      "Matmul vs Mul\n",
      "-----------\n",
      "tensor([[ 8.],\n",
      "        [18.]])\n",
      "tensor([[ 2.,  4.],\n",
      "        [ 9., 12.]])\n",
      "tensor([[ 2.,  4.],\n",
      "        [ 9., 12.]])\n"
     ]
    }
   ],
   "source": [
    "print()\n",
    "print('-----------')\n",
    "print('Matmul vs Mul')\n",
    "print('-----------')\n",
    "m1 = torch.FloatTensor([[1,2], [3, 4]])  # 2*2\n",
    "m2 = torch.FloatTensor([[2], [3]])  # 2*1\n",
    "print(m1.matmul(m2))  # 행렬곱(matrix multiply)\n",
    "# 행렬의 (일반)곱 - 같의 자리의 element끼리의 곱\n",
    "print(m1*m2)\n",
    "print(m1.mul(m2)) # mul = '*'"
   ]
  },
  {
   "cell_type": "markdown",
   "id": "compact-movement",
   "metadata": {},
   "source": [
    "matmul(matrix multiply)와 mul(multiply)의 경우 곱하고자 하는 두 수 중 한 수 뒤에 .matmul()이나 .mul()식의 매서드로 붙어서 활용된다."
   ]
  },
  {
   "cell_type": "markdown",
   "id": "actual-ideal",
   "metadata": {},
   "source": [
    "Mean"
   ]
  },
  {
   "cell_type": "code",
   "execution_count": 35,
   "id": "black-community",
   "metadata": {},
   "outputs": [
    {
     "name": "stdout",
     "output_type": "stream",
     "text": [
      "tensor(1.5000)\n"
     ]
    }
   ],
   "source": [
    "t = torch.FloatTensor([1, 2])\n",
    "print(t.mean())"
   ]
  },
  {
   "cell_type": "code",
   "execution_count": 38,
   "id": "canadian-fishing",
   "metadata": {},
   "outputs": [
    {
     "name": "stdout",
     "output_type": "stream",
     "text": [
      "Can only calculate the mean of floating types. Got Long instead.\n"
     ]
    }
   ],
   "source": [
    "# Can't use mean on integers\n",
    "t = torch.LongTensor([1,2])\n",
    "try:\n",
    "    print(t.mean())\n",
    "except Exception as exc:\n",
    "    print(exc)"
   ]
  },
  {
   "cell_type": "markdown",
   "id": "yellow-passport",
   "metadata": {},
   "source": [
    "You can also use t.mean for higher rank tensors to get mean of all elements, or mean by particular dimension."
   ]
  },
  {
   "cell_type": "code",
   "execution_count": 41,
   "id": "abroad-investor",
   "metadata": {},
   "outputs": [
    {
     "name": "stdout",
     "output_type": "stream",
     "text": [
      "tensor(2.5000)\n",
      "tensor([2., 3.])\n",
      "tensor([1.5000, 3.5000])\n",
      "tensor([1.5000, 3.5000])\n"
     ]
    }
   ],
   "source": [
    "t = torch.FloatTensor([[1,2],[3,4]])\n",
    "print(t.mean())\n",
    "print(t.mean(dim = 0))\n",
    "print(t.mean(dim = 1))\n",
    "print(t.mean(dim = -1))"
   ]
  },
  {
   "cell_type": "markdown",
   "id": "behind-spice",
   "metadata": {},
   "source": [
    "Sum"
   ]
  },
  {
   "cell_type": "code",
   "execution_count": 44,
   "id": "described-gibraltar",
   "metadata": {},
   "outputs": [
    {
     "name": "stdout",
     "output_type": "stream",
     "text": [
      "tensor(10.)\n",
      "tensor([4., 6.])\n",
      "tensor([3., 7.])\n",
      "tensor([3., 7.])\n"
     ]
    }
   ],
   "source": [
    "t = torch.FloatTensor([[1,2], [3,4]])\n",
    "print(t.sum())\n",
    "print(t.sum(dim = 0))\n",
    "print(t.sum(dim = 1))\n",
    "print(t.sum(dim = -1))"
   ]
  },
  {
   "cell_type": "markdown",
   "id": "given-mechanics",
   "metadata": {},
   "source": [
    "Max & Argmax"
   ]
  },
  {
   "cell_type": "code",
   "execution_count": 45,
   "id": "duplicate-batch",
   "metadata": {},
   "outputs": [
    {
     "data": {
      "text/plain": [
       "tensor([[1., 2.],\n",
       "        [3., 4.]])"
      ]
     },
     "execution_count": 45,
     "metadata": {},
     "output_type": "execute_result"
    }
   ],
   "source": [
    "t = torch.FloatTensor([[1,2], [3,4]])\n",
    "t"
   ]
  },
  {
   "cell_type": "markdown",
   "id": "ecological-retrieval",
   "metadata": {},
   "source": [
    "The max operator returns one value if it is called without an argument."
   ]
  },
  {
   "cell_type": "code",
   "execution_count": 46,
   "id": "distant-andorra",
   "metadata": {},
   "outputs": [
    {
     "data": {
      "text/plain": [
       "tensor(4.)"
      ]
     },
     "execution_count": 46,
     "metadata": {},
     "output_type": "execute_result"
    }
   ],
   "source": [
    "t.max()"
   ]
  },
  {
   "cell_type": "markdown",
   "id": "racial-amateur",
   "metadata": {},
   "source": [
    "The max operator returns two values when called with dimention specified. The first value is the maximum value, and the second value is the argmax: the indice of the element with maximum value."
   ]
  },
  {
   "cell_type": "code",
   "execution_count": 48,
   "id": "alive-shuttle",
   "metadata": {},
   "outputs": [
    {
     "data": {
      "text/plain": [
       "torch.return_types.max(\n",
       "values=tensor([3., 4.]),\n",
       "indices=tensor([1, 1]))"
      ]
     },
     "execution_count": 48,
     "metadata": {},
     "output_type": "execute_result"
    }
   ],
   "source": [
    "t.max(dim = 0) # Returns two values: Max and Argmax"
   ]
  },
  {
   "cell_type": "code",
   "execution_count": 49,
   "id": "funky-adelaide",
   "metadata": {},
   "outputs": [
    {
     "name": "stdout",
     "output_type": "stream",
     "text": [
      "Max :  tensor([3., 4.])\n"
     ]
    }
   ],
   "source": [
    "print('Max: ', t.max(dim = 0)[0])"
   ]
  },
  {
   "cell_type": "code",
   "execution_count": 50,
   "id": "satellite-running",
   "metadata": {},
   "outputs": [
    {
     "name": "stdout",
     "output_type": "stream",
     "text": [
      "Argmax:  tensor([1, 1])\n"
     ]
    }
   ],
   "source": [
    "print('Argmax: ', t.max(dim = 0)[1])"
   ]
  },
  {
   "cell_type": "code",
   "execution_count": 51,
   "id": "painted-flavor",
   "metadata": {},
   "outputs": [
    {
     "data": {
      "text/plain": [
       "torch.return_types.max(\n",
       "values=tensor([2., 4.]),\n",
       "indices=tensor([1, 1]))"
      ]
     },
     "execution_count": 51,
     "metadata": {},
     "output_type": "execute_result"
    }
   ],
   "source": [
    "t.max(dim = 1)"
   ]
  },
  {
   "cell_type": "code",
   "execution_count": 52,
   "id": "pleased-liberty",
   "metadata": {},
   "outputs": [
    {
     "data": {
      "text/plain": [
       "torch.return_types.max(\n",
       "values=tensor([2., 4.]),\n",
       "indices=tensor([1, 1]))"
      ]
     },
     "execution_count": 52,
     "metadata": {},
     "output_type": "execute_result"
    }
   ],
   "source": [
    "t.max(dim = -1)"
   ]
  }
 ],
 "metadata": {
  "kernelspec": {
   "display_name": "Python 3",
   "language": "python",
   "name": "python3"
  },
  "language_info": {
   "codemirror_mode": {
    "name": "ipython",
    "version": 3
   },
   "file_extension": ".py",
   "mimetype": "text/x-python",
   "name": "python",
   "nbconvert_exporter": "python",
   "pygments_lexer": "ipython3",
   "version": "3.7.10"
  }
 },
 "nbformat": 4,
 "nbformat_minor": 5
}
